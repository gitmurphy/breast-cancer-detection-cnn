{
 "cells": [
  {
   "cell_type": "markdown",
   "id": "6718c38c",
   "metadata": {},
   "source": [
    "### Convert the images from DICOM to PNG format \n",
    "\n",
    "The CNN models in this study do not support DICOM formatting, making conversion to PNG the first necessary step in data pre-processing. The script used will iterate through the images and systematically convert them to .png files in a new folder. The script will also ensure that the original folder structure is preserved, to retain access as intended to the associated categorical data found in accompanying csv files. The images will be individually normalized as part of this process to stretch the range of pixel intensities, improving contrast and readability."
   ]
  },
  {
   "cell_type": "code",
   "execution_count": null,
   "id": "dc26a438",
   "metadata": {},
   "outputs": [],
   "source": [
    "import os\n",
    "import cv2\n",
    "import pydicom\n",
    "\n",
    "# Input folder - DICOM files\n",
    "input_folder = r'E:\\vindr-mammo-1.0.0\\images'\n",
    "# Output folder - PNG files\n",
    "output_folder = r'E:\\vindr-mammo-1.0.0\\png_images'\n",
    "\n",
    "# Iterate through sub-folders and files\n",
    "for root, folders, files in os.walk(input_folder):\n",
    "    for file in files:\n",
    "        if file.endswith(\".dicom\"):\n",
    "            dicom_path = os.path.join(root, file)\n",
    "            relative_path = os.path.relpath(root, input_folder)\n",
    "            output_subfolder = os.path.join(output_folder, relative_path)  # Maintain original folder structure\n",
    "            os.makedirs(output_subfolder, exist_ok=True)  # Create output subfolder\n",
    "            output_path = os.path.join(output_subfolder, file.replace('.dicom', '.png'))\n",
    "            dicom_file = pydicom.dcmread(dicom_path)\n",
    "            img = dicom_file.pixel_array\n",
    "\n",
    "            if img.max() > 255:\n",
    "                img = (img - img.min()) / (img.max() - img.min()) * 255    # Normalize images (Stretch range of pixel intensities)\n",
    "                img = img.astype('uint8')\n",
    "\n",
    "            cv2.imwrite(output_path, img)  # Save as PNG"
   ]
  }
 ],
 "metadata": {
  "kernelspec": {
   "display_name": "model_dev",
   "language": "python",
   "name": "python3"
  },
  "language_info": {
   "codemirror_mode": {
    "name": "ipython",
    "version": 3
   },
   "file_extension": ".py",
   "mimetype": "text/x-python",
   "name": "python",
   "nbconvert_exporter": "python",
   "pygments_lexer": "ipython3",
   "version": "3.12.9"
  }
 },
 "nbformat": 4,
 "nbformat_minor": 5
}
